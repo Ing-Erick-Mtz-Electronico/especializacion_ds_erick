{
 "cells": [
  {
   "cell_type": "code",
   "execution_count": 2,
   "metadata": {},
   "outputs": [],
   "source": [
    "# Sistema de Gestión de Proyectos de Desarrollo de Software\n",
    "\n",
    "# Estás desarrollando un sistema para gestionar proyectos de desarrollo de software en una empresa. El sistema debe permitir la creación y gestión de proyectos, tareas y equipos de trabajo. Además, debe ser capaz de integrarse con diferentes herramientas externas para la gestión de versiones, seguimiento de errores y comunicación.\n",
    "\n",
    "# Requisitos:\n",
    "# Builder Pattern:\n",
    "# Implementa un constructor para crear proyectos complejos que incluyan múltiples tareas, equipos y configuraciones específicas.\n",
    "# Ejemplo: Crear un proyecto con un equipo de desarrollo, un equipo de pruebas y un conjunto de tareas iniciales.\n",
    "\n",
    "# Prototype Pattern:\n",
    "# Permite clonar proyectos existentes para crear nuevos proyectos basados en plantillas.\n",
    "# Ejemplo: Clonar un proyecto de “Desarrollo Web” para iniciar un nuevo proyecto similar con algunas modificaciones.\n",
    "\n",
    "# Adapter Pattern:\n",
    "# Integra el sistema con diferentes herramientas de gestión de versiones (por ejemplo, Git, SVN) utilizando adaptadores para unificar las interfaces.\n",
    "# Ejemplo: Crear un adaptador para interactuar con Git y otro para SVN, permitiendo al sistema usar una interfaz común para ambas herramientas.\n",
    "\n",
    "# Bridge Pattern:\n",
    "# Separa la abstracción de la implementación para permitir diferentes formas de notificación (por ejemplo, correo electrónico, SMS, notificaciones push).\n",
    "# Ejemplo: Implementar una clase de notificación que pueda usar diferentes APIs de servicios de mensajería.\n",
    "\n",
    "# Composite Pattern:\n",
    "# Permite tratar tareas individuales y grupos de tareas de manera uniforme.\n",
    "# Ejemplo: Crear una estructura de tareas donde una tarea puede contener subtareas, y todas pueden ser gestionadas de la misma manera.\n",
    "\n",
    "# Facade Pattern:\n",
    "# Proporciona una interfaz simplificada para interactuar con el sistema de gestión de proyectos, ocultando la complejidad de las operaciones internas.\n",
    "# Ejemplo: Implementar una fachada que permita a los usuarios crear, clonar y gestionar proyectos sin necesidad de conocer los detalles internos del sistema."
   ]
  },
  {
   "cell_type": "code",
   "execution_count": 3,
   "metadata": {},
   "outputs": [
    {
     "name": "stdout",
     "output_type": "stream",
     "text": [
      "New Project ['Development Team', 'QA Team'] ['Initial Setup']\n"
     ]
    }
   ],
   "source": [
    "class Project:\n",
    "    def __init__(self):\n",
    "        self.name = None\n",
    "        self.teams = []\n",
    "        self.tasks = []\n",
    "\n",
    "class ProjectBuilder:\n",
    "    def __init__(self):\n",
    "        self.project = Project()\n",
    "\n",
    "    def set_name(self, name):\n",
    "        self.project.name = name\n",
    "        return self\n",
    "\n",
    "    def add_team(self, team):\n",
    "        self.project.teams.append(team)\n",
    "        return self\n",
    "\n",
    "    def add_task(self, task):\n",
    "        self.project.tasks.append(task)\n",
    "        return self\n",
    "\n",
    "    def build(self):\n",
    "        return self.project\n",
    "\n",
    "# Uso\n",
    "builder = ProjectBuilder()\n",
    "project = (builder.set_name(\"New Project\")\n",
    "                .add_team(\"Development Team\")\n",
    "                .add_team(\"QA Team\")\n",
    "                .add_task(\"Initial Setup\")\n",
    "                .build())\n",
    "print(project.name, project.teams, project.tasks)\n"
   ]
  },
  {
   "cell_type": "code",
   "execution_count": 4,
   "metadata": {},
   "outputs": [
    {
     "name": "stdout",
     "output_type": "stream",
     "text": [
      "New Web Development ['Dev Team'] ['Setup', 'Development']\n"
     ]
    }
   ],
   "source": [
    "import copy\n",
    "\n",
    "class ProjectPrototype:\n",
    "    def __init__(self, name, teams, tasks):\n",
    "        self.name = name\n",
    "        self.teams = teams\n",
    "        self.tasks = tasks\n",
    "\n",
    "    def clone(self):\n",
    "        return copy.deepcopy(self)\n",
    "\n",
    "# Uso\n",
    "original_project = ProjectPrototype(\"Web Development\", [\"Dev Team\"], [\"Setup\", \"Development\"])\n",
    "cloned_project = original_project.clone()\n",
    "cloned_project.name = \"New Web Development\"\n",
    "print(cloned_project.name, cloned_project.teams, cloned_project.tasks)\n"
   ]
  },
  {
   "cell_type": "code",
   "execution_count": 5,
   "metadata": {},
   "outputs": [
    {
     "name": "stdout",
     "output_type": "stream",
     "text": [
      "Committing changes to Git\n",
      "Committing changes to SVN\n"
     ]
    }
   ],
   "source": [
    "class Git:\n",
    "    def commit(self):\n",
    "        return \"Committing changes to Git\"\n",
    "\n",
    "class SVN:\n",
    "    def commit(self):\n",
    "        return \"Committing changes to SVN\"\n",
    "\n",
    "class VersionControlAdapter:\n",
    "    def __init__(self, tool):\n",
    "        self.tool = tool\n",
    "\n",
    "    def commit(self):\n",
    "        return self.tool.commit()\n",
    "\n",
    "# Uso\n",
    "git = Git()\n",
    "svn = SVN()\n",
    "adapter = VersionControlAdapter(git)\n",
    "print(adapter.commit())\n",
    "adapter = VersionControlAdapter(svn)\n",
    "print(adapter.commit())\n"
   ]
  },
  {
   "cell_type": "code",
   "execution_count": 6,
   "metadata": {},
   "outputs": [
    {
     "name": "stdout",
     "output_type": "stream",
     "text": [
      "Sending email: Project deadline approaching\n",
      "Sending SMS: Project deadline approaching\n"
     ]
    }
   ],
   "source": [
    "class NotificationSender:\n",
    "    def send(self, message):\n",
    "        pass\n",
    "\n",
    "class EmailSender(NotificationSender):\n",
    "    def send(self, message):\n",
    "        print(f\"Sending email: {message}\")\n",
    "\n",
    "class SMSSender(NotificationSender):\n",
    "    def send(self, message):\n",
    "        print(f\"Sending SMS: {message}\")\n",
    "\n",
    "class Notification:\n",
    "    def __init__(self, sender):\n",
    "        self.sender = sender\n",
    "\n",
    "    def notify(self, message):\n",
    "        self.sender.send(message)\n",
    "\n",
    "# Uso\n",
    "email_sender = EmailSender()\n",
    "sms_sender = SMSSender()\n",
    "notification = Notification(email_sender)\n",
    "notification.notify(\"Project deadline approaching\")\n",
    "notification = Notification(sms_sender)\n",
    "notification.notify(\"Project deadline approaching\")\n"
   ]
  },
  {
   "cell_type": "code",
   "execution_count": 7,
   "metadata": {},
   "outputs": [
    {
     "name": "stdout",
     "output_type": "stream",
     "text": [
      "Performing a simple task\n",
      "Performing a simple task\n"
     ]
    }
   ],
   "source": [
    "#Composite Pattern\n",
    "class Task:\n",
    "    def perform(self):\n",
    "        pass\n",
    "\n",
    "class SimpleTask(Task):\n",
    "    def perform(self):\n",
    "        print(\"Performing a simple task\")\n",
    "\n",
    "class CompositeTask(Task):\n",
    "    def __init__(self):\n",
    "        self.tasks = []\n",
    "\n",
    "    def add(self, task):\n",
    "        self.tasks.append(task)\n",
    "\n",
    "    def perform(self):\n",
    "        for task in self.tasks:\n",
    "            task.perform()\n",
    "\n",
    "# Uso\n",
    "simple_task1 = SimpleTask()\n",
    "simple_task2 = SimpleTask()\n",
    "composite_task = CompositeTask()\n",
    "composite_task.add(simple_task1)\n",
    "composite_task.add(simple_task2)\n",
    "composite_task.perform()\n"
   ]
  },
  {
   "cell_type": "code",
   "execution_count": 8,
   "metadata": {},
   "outputs": [
    {
     "name": "stdout",
     "output_type": "stream",
     "text": [
      "Creating project: New Project\n",
      "Managing project: New Project\n"
     ]
    }
   ],
   "source": [
    "#Facade Pattern\n",
    "\n",
    "class ProjectManager:\n",
    "    def create_project(self, name):\n",
    "        print(f\"Creating project: {name}\")\n",
    "\n",
    "    def clone_project(self, project):\n",
    "        print(f\"Cloning project: {project.name}\")\n",
    "\n",
    "    def manage_project(self, project):\n",
    "        print(f\"Managing project: {project.name}\")\n",
    "\n",
    "class ProjectFacade:\n",
    "    def __init__(self):\n",
    "        self.manager = ProjectManager()\n",
    "\n",
    "    def create_and_manage_project(self, name):\n",
    "        self.manager.create_project(name)\n",
    "        project = ProjectPrototype(name, [], [])\n",
    "        self.manager.manage_project(project)\n",
    "\n",
    "# Uso\n",
    "facade = ProjectFacade()\n",
    "facade.create_and_manage_project(\"New Project\")\n"
   ]
  }
 ],
 "metadata": {
  "kernelspec": {
   "display_name": "Python 3",
   "language": "python",
   "name": "python3"
  },
  "language_info": {
   "codemirror_mode": {
    "name": "ipython",
    "version": 3
   },
   "file_extension": ".py",
   "mimetype": "text/x-python",
   "name": "python",
   "nbconvert_exporter": "python",
   "pygments_lexer": "ipython3",
   "version": "3.12.1"
  }
 },
 "nbformat": 4,
 "nbformat_minor": 2
}
