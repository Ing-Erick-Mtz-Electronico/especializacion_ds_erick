{
 "cells": [
  {
   "cell_type": "code",
   "execution_count": 21,
   "metadata": {},
   "outputs": [],
   "source": [
    "from abc import ABC, abstractmethod\n",
    "\n",
    "class InterfazMascota(ABC):\n",
    "    @abstractmethod\n",
    "    def correr(self) -> str:\n",
    "        pass\n",
    "\n",
    "    @abstractmethod\n",
    "    def hacer_sonido(self) -> str:\n",
    "        pass"
   ]
  },
  {
   "cell_type": "code",
   "execution_count": 22,
   "metadata": {},
   "outputs": [],
   "source": [
    "class MascotaError(InterfazMascota):\n",
    "    def __init__(self, nombre, edad, duenio, comida_favorita):\n",
    "        self.nombre = nombre\n",
    "        self.edad = edad\n",
    "        self.duenio = duenio\n",
    "        self.comida_favorita = comida_favorita\n",
    "\n",
    "    def conocer_nombre(self):\n",
    "        self.descripcion = f\"El nombre es: {self.nombre}\"\n",
    "        print(f\"El nombre es: {self.nombre}\")\n",
    "\n",
    "    def conocer_edad(self):\n",
    "        print(f\"La edad es: {self.edad}\")\n",
    "\n",
    "    def conocer_duenio(self):\n",
    "        print(f\"El nombre del dueño es: {self.duenio}\")\n",
    "\n",
    "    def conocer_comida_favorita(self):\n",
    "        print(f\"Su comida favorita es: {self.comida_favorita}\")\n",
    "\n",
    "    def echarle_agua():\n",
    "        print(f\"echando agua a la mascota\")\n",
    "\n",
    "    def echarle_jabon():\n",
    "        print(f\"echando jabon a la mascota\")\n"
   ]
  },
  {
   "cell_type": "code",
   "execution_count": 23,
   "metadata": {},
   "outputs": [],
   "source": [
    "class MascotaCorrecta(InterfazMascota):\n",
    "    def __init__(self, nombre, edad, duenio, comida_favorita):\n",
    "        self.nombre = nombre\n",
    "        self.edad = edad\n",
    "        self.duenio = duenio\n",
    "        self.comida_favorita = comida_favorita\n",
    "\n",
    "    def conocer_nombre(self):\n",
    "        self.descripcion = f\"El nombre es: {self.nombre}\"\n",
    "        print(f\"El nombre es: {self.nombre}\")\n",
    "\n",
    "    def conocer_edad(self):\n",
    "        print(f\"La edad es: {self.edad}\")\n",
    "\n",
    "    def conocer_duenio(self):\n",
    "        print(f\"El nombre del dueño es: {self.duenio}\")\n",
    "\n",
    "    def conocer_comida_favorita(self):\n",
    "        print(f\"Su comida favorita es: {self.comida_favorita}\")\n",
    "\n",
    "\n",
    "class BaniarMacota():\n",
    "\n",
    "    def echarle_agua():\n",
    "        print(f\"echando agua a la mascota\")\n",
    "\n",
    "    def echarle_jabon():\n",
    "        print(f\"echando jabon a la mascota\")"
   ]
  }
 ],
 "metadata": {
  "kernelspec": {
   "display_name": "Python 3",
   "language": "python",
   "name": "python3"
  },
  "language_info": {
   "codemirror_mode": {
    "name": "ipython",
    "version": 3
   },
   "file_extension": ".py",
   "mimetype": "text/x-python",
   "name": "python",
   "nbconvert_exporter": "python",
   "pygments_lexer": "ipython3",
   "version": "3.12.1"
  }
 },
 "nbformat": 4,
 "nbformat_minor": 2
}
