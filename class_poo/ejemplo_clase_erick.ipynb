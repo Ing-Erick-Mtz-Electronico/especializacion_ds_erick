{
 "cells": [
  {
   "cell_type": "code",
   "execution_count": 21,
   "metadata": {},
   "outputs": [],
   "source": [
    "from abc import ABC, abstractmethod\n",
    "\n",
    "class InterfazMascota(ABC):\n",
    "    @abstractmethod\n",
    "    def correr(self) -> str:\n",
    "        pass\n",
    "\n",
    "    @abstractmethod\n",
    "    def hacer_sonido(self) -> str:\n",
    "        pass"
   ]
  },
  {
   "cell_type": "code",
   "execution_count": 22,
   "metadata": {},
   "outputs": [],
   "source": [
    "class Mascota(InterfazMascota):\n",
    "    def __init__(self, nombre, edad, duenio, comida_favorita):\n",
    "        self.nombre = nombre\n",
    "        self.edad = edad\n",
    "        self.duenio = duenio\n",
    "        self.comida_favorita = comida_favorita\n",
    "\n",
    "    def conocer_nombre(self):\n",
    "        self.descripcion = f\"El nombre es: {self.nombre}\"\n",
    "        print(f\"El nombre es: {self.nombre}\")\n",
    "\n",
    "    def conocer_edad(self):\n",
    "        print(f\"La edad es: {self.edad}\")\n",
    "\n",
    "    def conocer_duenio(self):\n",
    "        print(f\"El nombre del dueño es: {self.duenio}\")\n",
    "\n",
    "    def conocer_comida_favorita(self):\n",
    "        print(f\"Su comida favorita es: {self.comida_favorita}\")\n"
   ]
  },
  {
   "cell_type": "code",
   "execution_count": 23,
   "metadata": {},
   "outputs": [],
   "source": [
    "class Perro(Mascota):\n",
    "    def __init__(self, nombre, edad, duenio, comida_favorita, raza):\n",
    "        super().__init__(nombre, edad, duenio, comida_favorita)\n",
    "        self.__raza = raza\n",
    "\n",
    "    def conocer_raza(self):\n",
    "        print(f\"La raza es: {self.__raza}\")\n",
    "\n",
    "    def hacer_sonido(self) -> str:\n",
    "        print(f\"sonido Guau\")\n",
    "\n",
    "    def correr(self) -> str:\n",
    "        print(f\"El perro corre\")\n",
    "\n",
    "class Gato(Mascota):\n",
    "    def __init__(self, nombre, edad, duenio, comida_favorita, raza):\n",
    "        super().__init__(nombre, edad, duenio, comida_favorita)\n",
    "        self.__raza = raza\n",
    "\n",
    "    def conocer_raza(self):\n",
    "        print(f\"La raza es: {self.__raza}\")\n",
    "\n",
    "    def hacer_sonido(self) -> str:\n",
    "        print(f\"sonido miau\")\n",
    "\n",
    "    def correr(self) -> str:\n",
    "        print(f\"El gato corre\")"
   ]
  },
  {
   "cell_type": "code",
   "execution_count": 24,
   "metadata": {},
   "outputs": [
    {
     "name": "stdout",
     "output_type": "stream",
     "text": [
      "El nombre es: Firulais\n",
      "sonido Guau\n",
      "Su comida favorita es: Atún\n"
     ]
    }
   ],
   "source": [
    "mi_perro = Perro(\"Firulais\", 5, \"Juan\", \"Croquetas\", \"Labrador\")\n",
    "mi_perro.conocer_nombre()\n",
    "mi_perro.hacer_sonido()\n",
    "mi_gato = Gato(\"Michi\", 3, \"Ana\", \"Atún\", \"Siamés\")\n",
    "mi_gato.conocer_comida_favorita()"
   ]
  }
 ],
 "metadata": {
  "kernelspec": {
   "display_name": "Python 3",
   "language": "python",
   "name": "python3"
  },
  "language_info": {
   "codemirror_mode": {
    "name": "ipython",
    "version": 3
   },
   "file_extension": ".py",
   "mimetype": "text/x-python",
   "name": "python",
   "nbconvert_exporter": "python",
   "pygments_lexer": "ipython3",
   "version": "3.12.1"
  }
 },
 "nbformat": 4,
 "nbformat_minor": 2
}
