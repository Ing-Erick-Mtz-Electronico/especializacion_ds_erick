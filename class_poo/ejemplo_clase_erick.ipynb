{
 "cells": [
  {
   "cell_type": "code",
   "execution_count": 21,
   "metadata": {},
   "outputs": [],
   "source": [
    "from abc import ABC, abstractmethod\n",
    "\n",
    "class InterfazMascota(ABC):\n",
    "    @abstractmethod\n",
    "    def correr(self) -> str:\n",
    "        pass\n",
    "\n",
    "    @abstractmethod\n",
    "    def hacer_sonido(self) -> str:\n",
    "        pass"
   ]
  },
  {
   "cell_type": "code",
   "execution_count": 22,
   "metadata": {},
   "outputs": [],
   "source": [
    "class MascotaError(InterfazMascota):\n",
    "    def __init__(self, nombre, edad, duenio, comida_favorita):\n",
    "        self.nombre = nombre\n",
    "        self.edad = edad\n",
    "        self.duenio = duenio\n",
    "        self.comida_favorita = comida_favorita\n",
    "\n",
    "    def conocer_nombre(self):\n",
    "        self.descripcion = f\"El nombre es: {self.nombre}\"\n",
    "        print(f\"El nombre es: {self.nombre}\")\n",
    "\n",
    "    def conocer_edad(self):\n",
    "        print(f\"La edad es: {self.edad}\")\n",
    "\n",
    "    def conocer_duenio(self):\n",
    "        print(f\"El nombre del dueño es: {self.duenio}\")\n",
    "\n",
    "    def conocer_comida_favorita(self):\n",
    "        print(f\"Su comida favorita es: {self.comida_favorita}\")\n",
    "\n",
    "    def echarle_agua():\n",
    "        print(f\"echando agua a la mascota\")\n",
    "\n",
    "    def echarle_jabon():\n",
    "        print(f\"echando jabon a la mascota\")\n"
   ]
  },
  {
   "cell_type": "code",
   "execution_count": 23,
   "metadata": {},
   "outputs": [],
   "source": [
    "class MascotaCorrecta(InterfazMascota):\n",
    "    def __init__(self, nombre, edad, duenio, comida_favorita):\n",
    "        self.nombre = nombre\n",
    "        self.edad = edad\n",
    "        self.duenio = duenio\n",
    "        self.comida_favorita = comida_favorita\n",
    "\n",
    "    def conocer_nombre(self):\n",
    "        self.descripcion = f\"El nombre es: {self.nombre}\"\n",
    "        print(f\"El nombre es: {self.nombre}\")\n",
    "\n",
    "    def conocer_edad(self):\n",
    "        print(f\"La edad es: {self.edad}\")\n",
    "\n",
    "    def conocer_duenio(self):\n",
    "        print(f\"El nombre del dueño es: {self.duenio}\")\n",
    "\n",
    "    def conocer_comida_favorita(self):\n",
    "        print(f\"Su comida favorita es: {self.comida_favorita}\")\n",
    "\n",
    "\n",
    "class BaniarMacota():\n",
    "\n",
    "    def echarle_agua():\n",
    "        print(f\"echando agua a la mascota\")\n",
    "\n",
    "    def echarle_jabon():\n",
    "        print(f\"echando jabon a la mascota\")"
   ]
  },
  {
   "cell_type": "code",
   "execution_count": 1,
   "metadata": {},
   "outputs": [
    {
     "name": "stdout",
     "output_type": "stream",
     "text": [
      "Meow\n",
      "Woof\n"
     ]
    }
   ],
   "source": [
    "class Animal:\n",
    "    def __init__(self, type):\n",
    "        self.type = type\n",
    "\n",
    "def animal_sound(animal):\n",
    "    if animal.type == \"Cat\":\n",
    "        return \"Meow\"\n",
    "    elif animal.type == \"Dog\":\n",
    "        return \"Woof\"\n",
    "    # Si agregas un nuevo animal, necesitas modificar esta función\n",
    "    elif animal.type == \"Cow\":\n",
    "        return \"Moo\"\n",
    "\n",
    "# Ejemplo de uso\n",
    "cat = Animal(\"Cat\")\n",
    "dog = Animal(\"Dog\")\n",
    "\n",
    "print(animal_sound(cat))\n",
    "print(animal_sound(dog))"
   ]
  },
  {
   "cell_type": "code",
   "execution_count": 10,
   "metadata": {},
   "outputs": [],
   "source": [
    "from abc import ABC, abstractmethod\n",
    "class Animal(ABC):\n",
    "    @abstractmethod\n",
    "    def run(self)->str:\n",
    "        pass\n",
    "\n",
    "    @abstractmethod\n",
    "    def fly(self)->str:\n",
    "        pass\n",
    "\n",
    "    @abstractmethod\n",
    "    def make_sound(self)->str:\n",
    "        pass"
   ]
  },
  {
   "cell_type": "code",
   "execution_count": 11,
   "metadata": {},
   "outputs": [],
   "source": [
    "class Cat(Animal):\n",
    "    def run(self)->str:\n",
    "        return \"Running\"\n",
    "\n",
    "    def fly(self)->str:\n",
    "        return \"\"\n",
    "\n",
    "    def make_sound(self)->str:\n",
    "        return \"Meow\"\n",
    "\n",
    "class Dog(Animal):\n",
    "    def run(self)->str:\n",
    "        return \"Running\"\n",
    "\n",
    "    def fly(self)->str:\n",
    "        return \"\"\n",
    "\n",
    "    def make_sound(self)->str:\n",
    "        return \"Woof\"\n",
    "\n",
    "class Duck(Animal):\n",
    "    def run(self)->str:\n",
    "        return \"Running\"\n",
    "\n",
    "    def fly(self)->str:\n",
    "        return \"flying\"\n",
    "\n",
    "    def make_sound(self)->str:\n",
    "        return \"Cuac\""
   ]
  },
  {
   "cell_type": "code",
   "execution_count": 12,
   "metadata": {},
   "outputs": [
    {
     "name": "stdout",
     "output_type": "stream",
     "text": [
      "Running\n",
      "\n",
      "Meow\n",
      "Running\n",
      "\n",
      "Woof\n",
      "Running\n",
      "flying\n",
      "Cuac\n"
     ]
    }
   ],
   "source": [
    "def animal_sound(animal: Animal):\n",
    "    print(animal.run())\n",
    "    print(animal.fly())\n",
    "    print(animal.make_sound())\n",
    "\n",
    "# Ejemplo de uso\n",
    "cat = Cat()\n",
    "dog = Dog()\n",
    "duck = Duck()\n",
    "\n",
    "animal_sound(cat)  # Salida: Meow\n",
    "animal_sound(dog)  # Salida: Woof\n",
    "animal_sound(duck)  # Salida: Woof"
   ]
  },
  {
   "cell_type": "code",
   "execution_count": 13,
   "metadata": {},
   "outputs": [],
   "source": [
    "from abc import ABC, abstractmethod\n",
    "class AnimalTerrestrialCorrect(ABC):\n",
    "    @abstractmethod\n",
    "    def run(self)->str:\n",
    "        pass\n",
    "\n",
    "    @abstractmethod\n",
    "    def make_sound(self)->str:\n",
    "        pass"
   ]
  },
  {
   "cell_type": "code",
   "execution_count": 14,
   "metadata": {},
   "outputs": [],
   "source": [
    "from abc import ABC, abstractmethod\n",
    "class AnimalFlyerCorrect(ABC):\n",
    "\n",
    "    @abstractmethod\n",
    "    def fly(self)->str:\n",
    "        pass\n"
   ]
  },
  {
   "cell_type": "code",
   "execution_count": 15,
   "metadata": {},
   "outputs": [],
   "source": [
    "class CatCorrect(AnimalTerrestrialCorrect):\n",
    "    def run(self)->str:\n",
    "        return \"Running\"\n",
    "\n",
    "    def make_sound(self)->str:\n",
    "        return \"Meow\"\n",
    "\n",
    "class DogCorrect(AnimalTerrestrialCorrect):\n",
    "    def run(self)->str:\n",
    "        return \"Running\"\n",
    "\n",
    "    def make_sound(self)->str:\n",
    "        return \"Woof\"\n",
    "\n",
    "class DuckCorrect(AnimalTerrestrialCorrect, AnimalFlyerCorrect):\n",
    "    def run(self)->str:\n",
    "        return \"Running\"\n",
    "\n",
    "    def fly(self)->str:\n",
    "        return \"flying\"\n",
    "\n",
    "    def make_sound(self)->str:\n",
    "        return \"Cuac\""
   ]
  },
  {
   "cell_type": "code",
   "execution_count": 16,
   "metadata": {},
   "outputs": [
    {
     "name": "stdout",
     "output_type": "stream",
     "text": [
      "Running\n",
      "Meow\n",
      "Running\n",
      "Woof\n",
      "Running\n",
      "flying\n",
      "Cuac\n"
     ]
    }
   ],
   "source": [
    "cat = CatCorrect()\n",
    "dog = DogCorrect()\n",
    "duck = DuckCorrect()\n",
    "\n",
    "print(cat.run())\n",
    "print(cat.make_sound())\n",
    "print(dog.run())\n",
    "print(dog.make_sound())\n",
    "print(duck.run())\n",
    "print(duck.fly())\n",
    "print(duck.make_sound())\n"
   ]
  },
  {
   "cell_type": "code",
   "execution_count": 22,
   "metadata": {},
   "outputs": [],
   "source": [
    "from abc import ABC, abstractmethod\n",
    "class AnimalSound(ABC):\n",
    "\n",
    "    @abstractmethod\n",
    "    def make_sound(self)->str:\n",
    "        pass\n"
   ]
  },
  {
   "cell_type": "code",
   "execution_count": 23,
   "metadata": {},
   "outputs": [],
   "source": [
    "class CatSound(AnimalSound):\n",
    "    def make_sound(self)->str:\n",
    "        return \"Meow\"\n",
    "\n",
    "class DogSound(AnimalSound):\n",
    "    def make_sound(self)->str:\n",
    "        return \"Woof\""
   ]
  },
  {
   "cell_type": "code",
   "execution_count": 24,
   "metadata": {},
   "outputs": [],
   "source": [
    "class veterinary():\n",
    "    def __init__(self, animal: AnimalSound):\n",
    "        self.__animal = animal\n",
    "\n",
    "    def knowSound(self):\n",
    "        print(self.__animal.make_sound())"
   ]
  },
  {
   "cell_type": "code",
   "execution_count": 25,
   "metadata": {},
   "outputs": [
    {
     "name": "stdout",
     "output_type": "stream",
     "text": [
      "Meow\n"
     ]
    }
   ],
   "source": [
    "veterinary = veterinary(CatSound())\n",
    "veterinary.knowSound()"
   ]
  }
 ],
 "metadata": {
  "kernelspec": {
   "display_name": "Python 3",
   "language": "python",
   "name": "python3"
  },
  "language_info": {
   "codemirror_mode": {
    "name": "ipython",
    "version": 3
   },
   "file_extension": ".py",
   "mimetype": "text/x-python",
   "name": "python",
   "nbconvert_exporter": "python",
   "pygments_lexer": "ipython3",
   "version": "3.12.1"
  }
 },
 "nbformat": 4,
 "nbformat_minor": 2
}
