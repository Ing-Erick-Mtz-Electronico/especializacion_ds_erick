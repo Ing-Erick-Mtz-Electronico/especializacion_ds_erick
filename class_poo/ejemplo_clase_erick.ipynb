{
 "cells": [
  {
   "cell_type": "code",
   "execution_count": 21,
   "metadata": {},
   "outputs": [],
   "source": [
    "from abc import ABC, abstractmethod\n",
    "\n",
    "class InterfazMascota(ABC):\n",
    "    @abstractmethod\n",
    "    def correr(self) -> str:\n",
    "        pass\n",
    "\n",
    "    @abstractmethod\n",
    "    def hacer_sonido(self) -> str:\n",
    "        pass"
   ]
  },
  {
   "cell_type": "code",
   "execution_count": 22,
   "metadata": {},
   "outputs": [],
   "source": [
    "class MascotaError(InterfazMascota):\n",
    "    def __init__(self, nombre, edad, duenio, comida_favorita):\n",
    "        self.nombre = nombre\n",
    "        self.edad = edad\n",
    "        self.duenio = duenio\n",
    "        self.comida_favorita = comida_favorita\n",
    "\n",
    "    def conocer_nombre(self):\n",
    "        self.descripcion = f\"El nombre es: {self.nombre}\"\n",
    "        print(f\"El nombre es: {self.nombre}\")\n",
    "\n",
    "    def conocer_edad(self):\n",
    "        print(f\"La edad es: {self.edad}\")\n",
    "\n",
    "    def conocer_duenio(self):\n",
    "        print(f\"El nombre del dueño es: {self.duenio}\")\n",
    "\n",
    "    def conocer_comida_favorita(self):\n",
    "        print(f\"Su comida favorita es: {self.comida_favorita}\")\n",
    "\n",
    "    def echarle_agua():\n",
    "        print(f\"echando agua a la mascota\")\n",
    "\n",
    "    def echarle_jabon():\n",
    "        print(f\"echando jabon a la mascota\")\n"
   ]
  },
  {
   "cell_type": "code",
   "execution_count": 23,
   "metadata": {},
   "outputs": [],
   "source": [
    "class MascotaCorrecta(InterfazMascota):\n",
    "    def __init__(self, nombre, edad, duenio, comida_favorita):\n",
    "        self.nombre = nombre\n",
    "        self.edad = edad\n",
    "        self.duenio = duenio\n",
    "        self.comida_favorita = comida_favorita\n",
    "\n",
    "    def conocer_nombre(self):\n",
    "        self.descripcion = f\"El nombre es: {self.nombre}\"\n",
    "        print(f\"El nombre es: {self.nombre}\")\n",
    "\n",
    "    def conocer_edad(self):\n",
    "        print(f\"La edad es: {self.edad}\")\n",
    "\n",
    "    def conocer_duenio(self):\n",
    "        print(f\"El nombre del dueño es: {self.duenio}\")\n",
    "\n",
    "    def conocer_comida_favorita(self):\n",
    "        print(f\"Su comida favorita es: {self.comida_favorita}\")\n",
    "\n",
    "\n",
    "class BaniarMacota():\n",
    "\n",
    "    def echarle_agua():\n",
    "        print(f\"echando agua a la mascota\")\n",
    "\n",
    "    def echarle_jabon():\n",
    "        print(f\"echando jabon a la mascota\")"
   ]
  },
  {
   "cell_type": "code",
   "execution_count": 1,
   "metadata": {},
   "outputs": [
    {
     "name": "stdout",
     "output_type": "stream",
     "text": [
      "Meow\n",
      "Woof\n"
     ]
    }
   ],
   "source": [
    "class Animal:\n",
    "    def __init__(self, type):\n",
    "        self.type = type\n",
    "\n",
    "def animal_sound(animal):\n",
    "    if animal.type == \"Cat\":\n",
    "        return \"Meow\"\n",
    "    elif animal.type == \"Dog\":\n",
    "        return \"Woof\"\n",
    "    # Si agregas un nuevo animal, necesitas modificar esta función\n",
    "    elif animal.type == \"Cow\":\n",
    "        return \"Moo\"\n",
    "\n",
    "# Ejemplo de uso\n",
    "cat = Animal(\"Cat\")\n",
    "dog = Animal(\"Dog\")\n",
    "\n",
    "print(animal_sound(cat))\n",
    "print(animal_sound(dog))"
   ]
  },
  {
   "cell_type": "code",
   "execution_count": 3,
   "metadata": {},
   "outputs": [],
   "source": [
    "from abc import ABC, abstractmethod\n",
    "class Animal(ABC):\n",
    "    @abstractmethod\n",
    "    def make_sound(self)->str:\n",
    "        pass"
   ]
  },
  {
   "cell_type": "code",
   "execution_count": 4,
   "metadata": {},
   "outputs": [],
   "source": [
    "class Cat(Animal):\n",
    "    def make_sound(self)->str:\n",
    "        return \"Meow\"\n",
    "\n",
    "class Dog(Animal):\n",
    "    def make_sound(self)->str:\n",
    "        return \"Woof\""
   ]
  },
  {
   "cell_type": "code",
   "execution_count": 5,
   "metadata": {},
   "outputs": [
    {
     "name": "stdout",
     "output_type": "stream",
     "text": [
      "Meow\n",
      "Woof\n"
     ]
    }
   ],
   "source": [
    "def animal_sound(animal: Animal):\n",
    "    print(animal.make_sound())\n",
    "\n",
    "# Ejemplo de uso\n",
    "cat = Cat()\n",
    "dog = Dog()\n",
    "\n",
    "animal_sound(cat)  # Salida: Meow\n",
    "animal_sound(dog)  # Salida: Woof"
   ]
  },
  {
   "cell_type": "code",
   "execution_count": 6,
   "metadata": {},
   "outputs": [],
   "source": [
    "class Rabit(Animal):\n",
    "    def make_sound(self)->str:\n",
    "        return 123"
   ]
  },
  {
   "cell_type": "code",
   "execution_count": 7,
   "metadata": {},
   "outputs": [
    {
     "name": "stdout",
     "output_type": "stream",
     "text": [
      "123\n"
     ]
    }
   ],
   "source": [
    "# Ejemplo de uso\n",
    "rabit = Rabit()\n",
    "\n",
    "animal_sound(rabit)"
   ]
  }
 ],
 "metadata": {
  "kernelspec": {
   "display_name": "Python 3",
   "language": "python",
   "name": "python3"
  },
  "language_info": {
   "codemirror_mode": {
    "name": "ipython",
    "version": 3
   },
   "file_extension": ".py",
   "mimetype": "text/x-python",
   "name": "python",
   "nbconvert_exporter": "python",
   "pygments_lexer": "ipython3",
   "version": "3.12.1"
  }
 },
 "nbformat": 4,
 "nbformat_minor": 2
}
